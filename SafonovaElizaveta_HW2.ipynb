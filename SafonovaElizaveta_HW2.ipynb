{
 "cells": [
  {
   "cell_type": "markdown",
   "metadata": {},
   "source": [
    "Stochastic Volatilty Models\n",
    "\n",
    "#### Home work 2\n",
    "\n",
    "---"
   ]
  },
  {
   "cell_type": "markdown",
   "metadata": {},
   "source": [
    "The file must be sent to **stoch-vol-23-fall@yandex.ru** with topic \"stoch-vol HW2\". WARNING: topic is important! Inbox will be filtered automatcally based on exact match. Please zip all files into one folder and rename it as \"SurnameName_HW2\" before sending.\n",
    "\n",
    "Deadline: 25th of December, 23:59.\n",
    "\n",
    "If you have any questions feel free to ask in Telegram https://t.me/v_antipov or https://t.me/igortao.\n",
    "\n",
    "<u>Full name</u>: **Safonova Elizaveta**\n",
    "\n",
    "<u>Faculty</u>: ***Faculty of computational mathematics and cybernetics (CMC MSU)***"
   ]
  },
  {
   "cell_type": "markdown",
   "metadata": {},
   "source": [
    "---"
   ]
  },
  {
   "cell_type": "markdown",
   "metadata": {},
   "source": [
    "### Problem 1 (40 points)"
   ]
  },
  {
   "cell_type": "markdown",
   "metadata": {},
   "source": [
    "Let $S^{(r)}$ be the underlying process from the CEV model with interest rate $r$, that is satisfying the SDE\n",
    "\n",
    "$$dS^{(r)}_t = r S^{(r)}_t dt + \\sigma (S^{(r)}_t)^{\\beta} dW_t, \\quad S^{(r)}_0 = s > 0.$$\n",
    "\n",
    "Show that under the time-change \n",
    "$$\\tau(t) = \\frac{e^{2r(\\beta - 1)t} - 1}{2r(\\beta - 1)},$$\n",
    "\n",
    "the following relationship holds \n",
    "\n",
    "$$S^{(r)}_t \\stackrel{d}{=} e^{rt} S^{(0)}_{\\tau(t)}.$$"
   ]
  },
  {
   "cell_type": "markdown",
   "metadata": {},
   "source": [
    "*Instructions:*"
   ]
  },
  {
   "cell_type": "markdown",
   "metadata": {},
   "source": [
    "**1**. 🧠 <span style=\"color:blue\">(10 points)</span>  Show that the discounted underlying process process $X_t := e^{-rt} S_t^{(r)}$ satisfies the SDE\n",
    "\n",
    "$$dX_t = \\sigma e^{r(\\beta - 1)t} X_t^{\\beta} dW_t.$$"
   ]
  },
  {
   "cell_type": "markdown",
   "metadata": {},
   "source": [
    "## <u>***РЕШЕНИЕ***:</u>"
   ]
  },
  {
   "cell_type": "markdown",
   "metadata": {},
   "source": [
    "По формуле Ito's product rule: $dX_t = S_t^{(r)} d(e^{-rt}) + e^{-rt}dS_t^{(r)} + d(e^{-rt})\\cdot dS_t^{(r)}.$\n",
    "\n",
    "$$dX_t = -re^{-rt}S_t^{(r)}dt + e^{-rt}\\left(r S^{(r)}_t dt + \\sigma (S^{(r)}_t)^{\\beta} dW_t\\right) + 0 = \\sigma e^{-rt} (S^{(r)}_t)^{\\beta} dW_t,$$\n",
    "\n",
    "$$X_t = e^{-rt}S_t^{(r)} \\Longrightarrow S_t^{(r)} = e^{rt}X_t.$$\n",
    "\n",
    "$$dX_t = \\sigma e^{-rt} (e^{rt}X_t)^{\\beta} dW_t = \\sigma e^{r(\\beta - 1)t} X_t^{\\beta} dW_t.$$"
   ]
  },
  {
   "cell_type": "markdown",
   "metadata": {},
   "source": [
    "---"
   ]
  },
  {
   "cell_type": "markdown",
   "metadata": {},
   "source": [
    "**2**. 🧠 <span style=\"color:blue\">(10 points)</span>  Show that the time-changed zero-rate underlying process process $\\widetilde X_t := S_{\\tau(t)}^{(0)}$ can be represented as\n",
    "\n",
    "$$\\widetilde X_t = s_0 + \\int_{0}^{t} \\sigma (S^{(0)}_{\\tau(u)})^{\\beta}dW_{\\tau(u)}.$$\n",
    "\n",
    "\n",
    "Then show that $W_{\\tau(u)}$ can be represented as \n",
    "$$W_{\\tau(u)} = \\int_{0}^{u} \\sqrt{\\tau'(v)} d \\widetilde{W_v},$$\n",
    "\n",
    "where $\\tilde W_v$ is some Brownian motion. "
   ]
  },
  {
   "cell_type": "markdown",
   "metadata": {},
   "source": [
    "## <u>***РЕШЕНИЕ***:</u>"
   ]
  },
  {
   "cell_type": "markdown",
   "metadata": {},
   "source": [
    "$$dS^{(0)}_t = \\sigma (S^{(0)}_t)^{\\beta} dW_t,$$\n",
    "\n",
    "$$\\widetilde X_t = S_{\\tau(t)}^{(0)} = s_0 + \\int\\limits_{0}^{\\tau(t)} \\sigma (S^{(0)}_{u})^{\\beta}dW_{u}.$$\n",
    "\n",
    "J. Jacod, Calcul Stochastique et Problemesde Martingales, стр.321:\n",
    "\n",
    "$$s_0 + \\int\\limits_{0}^{\\tau(t)} \\sigma (S^{(0)}_{u})^{\\beta}dW_{u} =  s_0 + \\int\\limits_{0}^{t} \\sigma (S^{(0)}_{\\tau(u)})^{\\beta}dW_{\\tau(u)}.$$"
   ]
  },
  {
   "cell_type": "markdown",
   "metadata": {},
   "source": [
    "$$\\mathbb{E}W_{\\tau(u)} = 0,\\quad \\mathbb{E}\\left(\\int_{0}^{u} \\sqrt{\\tau'(v)} d \\widetilde {W_v}\\right) = 0.$$\n",
    "\n",
    "$$\\mathbb{cov}\\left(W_{\\tau(m)},\\ W_{\\tau(n)}\\right) = \\min(\\tau(m), \\tau(n)) = \\tau(m) \\wedge \\tau(n),$$\n",
    "\n",
    "$$\\mathbb{cov}\\left(\\int\\limits_{0}^{m}\\sqrt{\\tau'(v)} d \\widetilde{W_v},\\ \\int\\limits_{0}^{n} \\sqrt{\\tau'(v)} d \\widetilde{W_v}\\right) = \\mathbb{E}\\left(\\int\\limits_{0}^{m}\\sqrt{\\tau'(v)} d \\widetilde{W_v} \\cdot \\int\\limits_{0}^{n} \\sqrt{\\tau'(v)} d \\widetilde{W_v}\\right) = \\mathbb{E}\\left(\\int\\limits_{0}^{\\min(m,\\ n)}\\sqrt{\\tau'(v)} d \\widetilde{W_v}\\right)^2$$"
   ]
  },
  {
   "cell_type": "markdown",
   "metadata": {},
   "source": [
    "По изометрии Ито последнее выражение имеет следующий вид:\n",
    "\n",
    "$$\\mathbb{E}\\left(\\int\\limits_{0}^{\\min(m,\\ n)}\\sqrt{\\tau'(v)} d \\widetilde{W_v}\\right)^2 = \\mathbb{E}\\left(\\int\\limits_{0}^{\\min(m,\\ n)}\\tau'(v) dv\\right) = \\mathbb{E}\\Bigl[\\min(\\tau(m), \\tau(n))\\Bigr] = \\min(\\tau(m), \\tau(n)) = \\tau(m) \\wedge \\tau(n)$$\n",
    "\n",
    "Т.е. доказали, что $W_{\\tau(u)} = \\int_{0}^{u} \\sqrt{\\tau'(v)} d \\widetilde{W_v}.$"
   ]
  },
  {
   "cell_type": "markdown",
   "metadata": {},
   "source": [
    "---"
   ]
  },
  {
   "cell_type": "markdown",
   "metadata": {},
   "source": [
    "**3**. 🧠 <span style=\"color:blue\">(10 points)</span>  Show that $\\widetilde X_t$ satisfies the SDE \n",
    "\n",
    "$$d \\widetilde {X_t} = \\sigma e^{r (\\beta - 1) t } \\widetilde X_t^{\\beta} d \\widetilde {W_t}.$$"
   ]
  },
  {
   "cell_type": "markdown",
   "metadata": {},
   "source": [
    "## <u>***РЕШЕНИЕ***:</u>"
   ]
  },
  {
   "cell_type": "markdown",
   "metadata": {},
   "source": [
    " $$dW_{\\tau(u)} = \\sqrt{\\tau'(u)} d \\widetilde{W_u},$$\n",
    "\n",
    "$$\\widetilde {X_t} = s_0 + \\int_{0}^{t} \\sigma (S^{(0)}_{\\tau(u)})^{\\beta}dW_{\\tau(u)},$$\n",
    "\n",
    "$$d\\widetilde {X_t} =\\sigma (S^{(0)}_{\\tau(t)})^{\\beta}dW_{\\tau(t)} = \\sigma (S^{(0)}_{\\tau(t)})^{\\beta}\\sqrt{\\tau'(t)} d \\widetilde{W_t}=\\\\= \\Biggl[\\tau'(t) = \\frac{2r(\\beta - 1)e^{2r(\\beta-1)t}}{2r(\\beta - 1)} = e^{2r(\\beta-1)t}\\Biggr] =\\\\=\n",
    "\\sigma (S^{(0)}_{\\tau(t)})^{\\beta}\\sqrt{e^{2r(\\beta-1)t}} d \\widetilde{W_t} = \\sigma (\\widetilde {X}_t)^{\\beta}e^{r(\\beta-1)t} d \\widetilde{W_t}.$$"
   ]
  },
  {
   "cell_type": "markdown",
   "metadata": {},
   "source": [
    "**4**. 🧠 <span style=\"color:blue\">(10 points)</span>  Conclude that \n",
    "\n",
    "$$X_t \\stackrel{d}{=} \\widetilde X_t.$$"
   ]
  },
  {
   "cell_type": "markdown",
   "metadata": {},
   "source": [
    "$$ I = \\{ x \\in \\mathbb{R} : \\int\\limits _{x - \\varepsilon} ^{x + \\varepsilon} \\frac{d y}{e^{ 2 r(\\beta-1)t} \\sigma^2 y^{2\\beta}} = \\infty \\}, \\beta > \\frac{1}{2}$$\n",
    "\n",
    "По теореме Энгельберта-Шмидта имеет место слабая единственность.\n",
    "\n",
    "$$\\begin{cases}\n",
    "d\\widetilde {X_t} = \\sigma e^{r(\\beta-1)t}(\\widetilde {X}_t)^{\\beta} d \\widetilde{W_t}\\\\\n",
    "dX_t = \\sigma e^{r(\\beta - 1)t} X_t^{\\beta} dW_t\n",
    "\\end{cases} \\Longrightarrow X_t \\stackrel{d}{=} \\widetilde X_t,$$\n",
    "\n",
    "$$e^{-rt} S_t^{(r)} \\stackrel{d}{=} S_{\\tau(t)}^{(0)},$$\n",
    "\n",
    "$$S_t^{(r)} \\stackrel{d}{=} e^{rt}S_{\\tau(t)}^{(0)}.$$"
   ]
  },
  {
   "cell_type": "markdown",
   "metadata": {},
   "source": [
    "---"
   ]
  },
  {
   "cell_type": "markdown",
   "metadata": {},
   "source": [
    "### Problem 2 (20 points)"
   ]
  },
  {
   "cell_type": "markdown",
   "metadata": {},
   "source": [
    "Let $S$ be the underlying process from the CEV model with zero interest rate, that is satisfying the SDE\n",
    "\n",
    "$$dS_t = \\sigma (S_t)^{\\beta} dW_t, \\quad S_0 = s > 0.$$\n",
    "\n",
    "Show that the process $$X_t := \\frac{S^{2(1 - \\beta)}_t}{\\sigma^2 (1 - \\beta)^2}$$\n",
    "\n",
    "is a square of the Bessel proceess of dimension $\\delta = (1 - 2 \\beta) / (1 - \\beta)$, i.e. satisfies the SDE \n",
    "\n",
    "$$dX_t = \\delta dt + 2 \\sqrt{|X_t|} dW_t.$$"
   ]
  },
  {
   "cell_type": "markdown",
   "metadata": {},
   "source": [
    "## <u>***РЕШЕНИЕ***:</u>"
   ]
  },
  {
   "cell_type": "markdown",
   "metadata": {},
   "source": [
    "По формуле Ито:\n",
    "$$dX_t = \\frac{1}{\\sigma^2(1-\\beta)^2}d\\left(S_t^{2(1-\\beta)}\\right) =\\\\= \\frac{1}{\\sigma^2(1-\\beta)^2}\\Biggl[\\left(0 + 2(1-\\beta)\\cdot 0 + \\frac{1}{2}\\cdot2(1 - \\beta)(2(1-\\beta) - 1)S_t^{2(1-\\beta)-2}\\sigma^2S_t^{2\\beta}\\right)dt + \\sigma S_t^{\\beta}\\cdot 2(1-\\beta)S_t^{2(\\beta - 1) - 1}dW_t\\Biggr]=\\\\=\\frac{1}{\\sigma^2(1-\\beta)^2}\\Biggl[(1 - \\beta)(1-2\\beta) \\sigma^2dt + \\sigma\\cdot 2(1-\\beta)S_t^{1- \\beta}dW_t\\Biggr] = \\\\= \\frac{1-2\\beta}{(1-\\beta)}dt + 2\\frac{S_t^{1- \\beta}}{\\sigma(1-\\beta)}dW_t = \\delta dt + 2 \\sqrt{|X_t|} dW_t.$$ "
   ]
  },
  {
   "cell_type": "markdown",
   "metadata": {},
   "source": [
    "---"
   ]
  },
  {
   "cell_type": "markdown",
   "metadata": {},
   "source": [
    "### Problem 3 (40 points)"
   ]
  },
  {
   "cell_type": "markdown",
   "metadata": {},
   "source": [
    "In Heston model under the martingale measure (the measure under which all underlying assets are martinagales w.r.t the money-market account $dB_t = B_t r dt$, $B_0 = 1$) the price process is given by a system of SDE \n",
    "\n",
    "$$dS_t = S_t (r dt + \\sqrt{V_t} d W^{S}_t), \\quad S_0 = s > 0,$$\n",
    "$$d V_t = \\kappa (\\bar V - V_t) dt + \\gamma \\sqrt{V_t} \\left[ \\rho d W^{S}_t + \\sqrt{1 - \\rho^2} d W^{V}_t \\right], \\quad V_0 = v > 0.$$\n",
    "\n",
    "Derive the model dynamics under the the stock-measure $\\mathbb{Q}^{S}$, under which all assets are martingales w.r.t. the stock price $S_t$. "
   ]
  },
  {
   "cell_type": "markdown",
   "metadata": {},
   "source": [
    "*Instructions:*"
   ]
  },
  {
   "cell_type": "markdown",
   "metadata": {},
   "source": [
    "**1**. 🧠 <span style=\"color:blue\">(10 points)</span> Define a process $Y_t := B_t/S_t$ and show that its dynamics are given by\n",
    "\n",
    "$$dY_t = Y_t (V_t dt - \\sqrt{V_t} dW^{S}_t), \\quad Y_0 = 1/S_0.$$"
   ]
  },
  {
   "cell_type": "markdown",
   "metadata": {},
   "source": [
    "## <u>***РЕШЕНИЕ***:</u>"
   ]
  },
  {
   "cell_type": "markdown",
   "metadata": {},
   "source": [
    "$$dY_t = d\\left(\\frac{B_t}{S_t}\\right) = \\frac{dB_t}{S_t} + B_td\\left(\\frac{1}{S_t}\\right) + dB_t \\cdot d\\left(\\frac{1}{S_t}\\right) ,$$\n",
    "\n",
    "$$d\\left(\\frac{1}{S_t}\\right) = \\left(-S_t^{-2} \\cdot r S_t + \\frac{1}{2} \\cdot 2 S_t^{-3} S_t^2 V_t\\right)dt + (-S_t^{-2})S_t\\sqrt{V_t}dW_t^S =\\\\ =\\frac{(-r + V_t)dt - \\sqrt{V_t}dW_t^S}{S_t}.$$\n",
    "\n",
    "$$dY_t = \\frac{r B_t dt}{S_t} + \\frac{B_t\\left((-r + V_t)dt - \\sqrt{V_t}dW_t^S\\right)}{S_t} + 0 = Y_t\\left(V_t dt - \\sqrt{V_t} dW^{S}_t\\right)$$"
   ]
  },
  {
   "cell_type": "markdown",
   "metadata": {},
   "source": [
    "---"
   ]
  },
  {
   "cell_type": "markdown",
   "metadata": {},
   "source": [
    "**2**. 🧠 <span style=\"color:blue\">(10 points)</span> Define another Brownian motion, $\\tilde W^{S}_t$, for which process $Y_t$ becomes a martingale. "
   ]
  },
  {
   "cell_type": "markdown",
   "metadata": {},
   "source": [
    "## <u>***РЕШЕНИЕ***:</u>"
   ]
  },
  {
   "cell_type": "markdown",
   "metadata": {},
   "source": [
    "$$\\widetilde W^{S}_t = -W_t^S + \\int_0^t \\sqrt{V_s} ds,$$\n",
    "\n",
    "$$d W_t^S = -d\\widetilde W^{S}_t + \\sqrt{V_t} dt,$$\n",
    "\n",
    "$$dY_t = Y_t \\left(V_t dt - \\sqrt{V_t} dW^{S}_t\\right) = Y_t \\left(V_t dt - \\sqrt{V_t} (-d\\widetilde W^{S}_t + \\sqrt{V_t} dt)\\right) = Y_t\\sqrt{V_t}d\\widetilde W^{S}_t.$$"
   ]
  },
  {
   "cell_type": "markdown",
   "metadata": {},
   "source": [
    "---"
   ]
  },
  {
   "cell_type": "markdown",
   "metadata": {},
   "source": [
    "**3**. 🧠 <span style=\"color:blue\">(10 points)</span> Use the derived measure transformation to show that the Heston model under the $\\mathbb{Q}^S$ measure reads\n",
    "\n",
    "$$dS_t = S_t ((r + V_t)dt - \\sqrt{V_t} d \\widetilde W^{S}_t), \\quad S_0 = s > 0,$$\n",
    "$$d V_t = \\kappa^{*} (\\bar V^{*} - V_t) dt + \\gamma \\sqrt{V_t} \\left[ - \\rho d \\widetilde W^{S}_t + \\sqrt{1 - \\rho^2} d W^{V}_t \\right], \\quad V_0 = v > 0,$$\n",
    "\n",
    "where $\\kappa^{*} = \\kappa - \\rho \\gamma$, $\\bar V^{*} = \\kappa \\bar V / (\\kappa - \\rho \\gamma)$. "
   ]
  },
  {
   "cell_type": "markdown",
   "metadata": {},
   "source": [
    "## <u>***РЕШЕНИЕ***:</u>"
   ]
  },
  {
   "cell_type": "markdown",
   "metadata": {},
   "source": [
    "$$dS_t = S_t (r dt + \\sqrt{V_t} d W^{S}_t) = S_t \\left(r dt + \\sqrt{V_t}\\left(-d\\widetilde W^{S}_t + \\sqrt{V_t} dt\\right)\\right) = S_t ((r + V_t)dt - \\sqrt{V_t} d \\widetilde W^{S}_t),$$\n",
    "\n",
    "$$d V_t = \\kappa (\\bar V - V_t) dt + \\gamma \\sqrt{V_t} \\left[ \\rho d W^{S}_t + \\sqrt{1 - \\rho^2} d W^{V}_t \\right] =\\\\= \\kappa (\\bar V - V_t) dt + \\gamma \\sqrt{V_t} \\left[ \\rho \\left(-d\\widetilde W^{S}_t + \\sqrt{V_t} dt\\right) + \\sqrt{1 - \\rho^2} d W^{V}_t \\right]=\\\\= \\left(\\kappa (\\bar V - V_t) + \\rho \\gamma V_t\\right) dt + \\gamma \\sqrt{V_t} \\left[-\\rho d\\widetilde W^{S}_t + \\sqrt{1 - \\rho^2} d W^{V}_t \\right] = \\\\ = \\left(\\kappa \\bar V - V_t(\\kappa  - \\rho \\gamma)\\right) dt + \\gamma \\sqrt{V_t} \\left[-\\rho d\\widetilde W^{S}_t + \\sqrt{1 - \\rho^2} d W^{V}_t \\right] = \\\\ = \\underbrace{(\\kappa  - \\rho \\gamma)}_{\\kappa^*}(\\underbrace{\\frac{\\kappa}{(\\kappa - \\rho \\gamma)}\\bar V}_{\\bar V^{*}} - V_t) dt + \\gamma \\sqrt{V_t} \\left[-\\rho d\\widetilde W^{S}_t + \\sqrt{1 - \\rho^2} d W^{V}_t \\right]$$"
   ]
  },
  {
   "cell_type": "markdown",
   "metadata": {},
   "source": [
    "---"
   ]
  },
  {
   "cell_type": "markdown",
   "metadata": {},
   "source": [
    "**4**. 🧠 <span style=\"color:blue\">(10 points)</span> Use the transform $d \\widehat  W^{S}_t = - d \\widetilde W^{S}_t$ to obtain the final equations. "
   ]
  },
  {
   "cell_type": "markdown",
   "metadata": {},
   "source": [
    "## <u>***РЕШЕНИЕ***:</u>"
   ]
  },
  {
   "cell_type": "markdown",
   "metadata": {},
   "source": [
    "$$dS_t = S_t ((r + V_t)dt + \\sqrt{V_t} d  \\widehat W^{S}_t), \\quad S_0 = s > 0,$$\n",
    "$$d V_t = \\kappa^{*} (\\bar V^{*} - V_t) dt + \\gamma \\sqrt{V_t} \\left[\\rho d \\widehat W^{S}_t + \\sqrt{1 - \\rho^2} d W^{V}_t \\right], \\quad V_0 = v > 0,$$"
   ]
  }
 ],
 "metadata": {
  "kernelspec": {
   "display_name": "Python 3 (ipykernel)",
   "language": "python",
   "name": "python3"
  },
  "language_info": {
   "codemirror_mode": {
    "name": "ipython",
    "version": 3
   },
   "file_extension": ".py",
   "mimetype": "text/x-python",
   "name": "python",
   "nbconvert_exporter": "python",
   "pygments_lexer": "ipython3",
   "version": "3.9.7"
  }
 },
 "nbformat": 4,
 "nbformat_minor": 2
}
